{
 "cells": [
  {
   "cell_type": "markdown",
   "metadata": {},
   "source": [
    "# Testing ECG data with LAP:"
   ]
  },
  {
   "cell_type": "code",
   "execution_count": 1,
   "metadata": {},
   "outputs": [],
   "source": [
    "import os\n",
    "import pandas as pd\n",
    "import matplotlib.pyplot as plt\n",
    "import graph_code"
   ]
  },
  {
   "cell_type": "code",
   "execution_count": 2,
   "metadata": {},
   "outputs": [],
   "source": [
    "results_dir = './outputs/ecg_results/'"
   ]
  },
  {
   "cell_type": "code",
   "execution_count": 3,
   "metadata": {},
   "outputs": [],
   "source": [
    "file_names = [\n",
    "    results_dir + file_name \n",
    "    for file_name in os.listdir(results_dir) \n",
    "    if 'csv' in file_name\n",
    "    ]"
   ]
  },
  {
   "cell_type": "code",
   "execution_count": 4,
   "metadata": {},
   "outputs": [
    {
     "data": {
      "text/plain": [
       "['./outputs/ecg_results/ecg-s_2481632641282565121024-ds_0.0-20221111-192410.csv',\n",
       " './outputs/ecg_results/ecg-s_2481632641282565121024-ds_1.0-20221111-180035.csv']"
      ]
     },
     "execution_count": 4,
     "metadata": {},
     "output_type": "execute_result"
    }
   ],
   "source": [
    "file_names"
   ]
  },
  {
   "cell_type": "code",
   "execution_count": 5,
   "metadata": {},
   "outputs": [],
   "source": [
    "results = pd.DataFrame()\n",
    "\n",
    "# loading\n",
    "\n",
    "for file_name in file_names:\n",
    "    results_temp = pd.read_csv(file_name)\n",
    "    \n",
    "    results = pd.concat([results, results_temp]).reset_index(drop=True)"
   ]
  },
  {
   "cell_type": "code",
   "execution_count": 6,
   "metadata": {},
   "outputs": [
    {
     "data": {
      "image/png": "[encoded data removed]",
      "text/plain": [
       "<Figure size 411.339x460.8 with 1 Axes>"
      ]
     },
     "metadata": {
      "needs_background": "light"
     },
     "output_type": "display_data"
    }
   ],
   "source": [
    "metric_names = {\n",
    "    'accuracy_score': 'Accuracy',\n",
    "    'recall_score': 'Recall',\n",
    "    'precision_score': 'Precision', \n",
    "    'f1_score': 'F1',\n",
    "    'auc_precision_recall_curve': 'AUC\\nPrecision\\nRecall Curve',\n",
    "    }\n",
    "\n",
    "with graph_code.paper_theme():\n",
    "    fig, ax = plt.subplots(1,1,figsize=(7.1413*0.8,8*0.8))\n",
    "    ax = graph_code.boxplot(\n",
    "        data=(\n",
    "            results\n",
    "            .query(\"context == 'test'\")\n",
    "            .query(\"metric != 'auc_precision_recall_curve'\")\n",
    "            .rename(\n",
    "                {\n",
    "                    'metric': 'Metric',\n",
    "                    'value': 'Value (%)',\n",
    "                    'depression_strength': 'Model',\n",
    "                    },\n",
    "                    axis=1\n",
    "                )\n",
    "            .replace(\n",
    "                {\n",
    "                    'Model': {\n",
    "                        1:'LAP Model (Ours)', \n",
    "                        0: 'Standard Model'\n",
    "                        },\n",
    "                    'Metric': metric_names\n",
    "                    })\n",
    "            .assign(\n",
    "                **{'Value (%)': lambda x: x['Value (%)']*100}\n",
    "                )\n",
    "            ), \n",
    "        x='Metric', \n",
    "        y='Value (%)',\n",
    "        hue='Model',\n",
    "        hue_order=['Standard Model', 'LAP Model (Ours)',],\n",
    "        ax=ax,\n",
    "        palette={\n",
    "            'Standard Model': '#648eff', \n",
    "            'LAP Model (Ours)': '#fd6000', \n",
    "            'Standard Model - Clean Data': '#917cf1', \n",
    "            },\n",
    "        )\n",
    "    ax.set_title(\n",
    "        \"Results of ResNet on ECG Data\",\n",
    "        fontsize=20,\n",
    "        y=1.05\n",
    "        )\n",
    "    ax.legend(loc='lower right', title='Model')\n",
    "    ax.set_xlabel('')\n",
    "\n",
    "    file_name = './outputs/graphs/ecg_metrics'\n",
    "    graph_code.save_fig(fig, file_name)"
   ]
  },
  {
   "cell_type": "code",
   "execution_count": 7,
   "metadata": {},
   "outputs": [
    {
     "data": {
      "text/html": [
       "<div>\n",
       "<style scoped>\n",
       "    .dataframe tbody tr th:only-of-type {\n",
       "        vertical-align: middle;\n",
       "    }\n",
       "\n",
       "    .dataframe tbody tr th {\n",
       "        vertical-align: top;\n",
       "    }\n",
       "\n",
       "    .dataframe thead tr th {\n",
       "        text-align: left;\n",
       "    }\n",
       "\n",
       "    .dataframe thead tr:last-of-type th {\n",
       "        text-align: right;\n",
       "    }\n",
       "</style>\n",
       "<table border=\"1\" class=\"dataframe\">\n",
       "  <thead>\n",
       "    <tr>\n",
       "      <th></th>\n",
       "      <th></th>\n",
       "      <th colspan=\"2\" halign=\"left\">value</th>\n",
       "    </tr>\n",
       "    <tr>\n",
       "      <th></th>\n",
       "      <th></th>\n",
       "      <th>mean</th>\n",
       "      <th>std</th>\n",
       "    </tr>\n",
       "    <tr>\n",
       "      <th>metric</th>\n",
       "      <th>depression_strength</th>\n",
       "      <th></th>\n",
       "      <th></th>\n",
       "    </tr>\n",
       "  </thead>\n",
       "  <tbody>\n",
       "    <tr>\n",
       "      <th rowspan=\"2\" valign=\"top\">accuracy_score</th>\n",
       "      <th>0.0</th>\n",
       "      <td>0.741566</td>\n",
       "      <td>0.041535</td>\n",
       "    </tr>\n",
       "    <tr>\n",
       "      <th>1.0</th>\n",
       "      <td>0.816869</td>\n",
       "      <td>0.003240</td>\n",
       "    </tr>\n",
       "    <tr>\n",
       "      <th rowspan=\"2\" valign=\"top\">auc_precision_recall_curve</th>\n",
       "      <th>0.0</th>\n",
       "      <td>0.762470</td>\n",
       "      <td>0.051993</td>\n",
       "    </tr>\n",
       "    <tr>\n",
       "      <th>1.0</th>\n",
       "      <td>0.854967</td>\n",
       "      <td>0.011746</td>\n",
       "    </tr>\n",
       "    <tr>\n",
       "      <th rowspan=\"2\" valign=\"top\">f1_score</th>\n",
       "      <th>0.0</th>\n",
       "      <td>0.734355</td>\n",
       "      <td>0.046852</td>\n",
       "    </tr>\n",
       "    <tr>\n",
       "      <th>1.0</th>\n",
       "      <td>0.814740</td>\n",
       "      <td>0.005180</td>\n",
       "    </tr>\n",
       "    <tr>\n",
       "      <th rowspan=\"2\" valign=\"top\">precision_score</th>\n",
       "      <th>0.0</th>\n",
       "      <td>0.689676</td>\n",
       "      <td>0.036268</td>\n",
       "    </tr>\n",
       "    <tr>\n",
       "      <th>1.0</th>\n",
       "      <td>0.756426</td>\n",
       "      <td>0.010077</td>\n",
       "    </tr>\n",
       "    <tr>\n",
       "      <th rowspan=\"2\" valign=\"top\">recall_score</th>\n",
       "      <th>0.0</th>\n",
       "      <td>0.786047</td>\n",
       "      <td>0.064733</td>\n",
       "    </tr>\n",
       "    <tr>\n",
       "      <th>1.0</th>\n",
       "      <td>0.883389</td>\n",
       "      <td>0.021870</td>\n",
       "    </tr>\n",
       "  </tbody>\n",
       "</table>\n",
       "</div>"
      ],
      "text/plain": [
       "                                                   value          \n",
       "                                                    mean       std\n",
       "metric                     depression_strength                    \n",
       "accuracy_score             0.0                  0.741566  0.041535\n",
       "                           1.0                  0.816869  0.003240\n",
       "auc_precision_recall_curve 0.0                  0.762470  0.051993\n",
       "                           1.0                  0.854967  0.011746\n",
       "f1_score                   0.0                  0.734355  0.046852\n",
       "                           1.0                  0.814740  0.005180\n",
       "precision_score            0.0                  0.689676  0.036268\n",
       "                           1.0                  0.756426  0.010077\n",
       "recall_score               0.0                  0.786047  0.064733\n",
       "                           1.0                  0.883389  0.021870"
      ]
     },
     "execution_count": 7,
     "metadata": {},
     "output_type": "execute_result"
    }
   ],
   "source": [
    "(results\n",
    "    .query(\"context == 'test'\")\n",
    "    .groupby(\n",
    "        by=[\n",
    "            'metric',\n",
    "            'depression_strength',\n",
    "            ]\n",
    "        )\n",
    "    [['value']]\n",
    "    .agg(['mean', 'std'])\n",
    "    )"
   ]
  }
 ],
 "metadata": {
  "interpreter": {
   "hash": "7558e63c23b0a0714362031d3a7b8ced60481b05af2dfe8700c0e85c4165f598"
  },
  "kernelspec": {
   "display_name": "Python 3.9.12 ('dcarte')",
   "language": "python",
   "name": "python3"
  },
  "language_info": {
   "codemirror_mode": {
    "name": "ipython",
    "version": 3
   },
   "file_extension": ".py",
   "mimetype": "text/x-python",
   "name": "python",
   "nbconvert_exporter": "python",
   "pygments_lexer": "ipython3",
   "version": "3.8.13"
  },
  "orig_nbformat": 4
 },
 "nbformat": 4,
 "nbformat_minor": 2
}
